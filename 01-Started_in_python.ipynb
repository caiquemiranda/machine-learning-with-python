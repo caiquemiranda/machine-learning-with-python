{
 "cells": [
  {
   "cell_type": "code",
   "execution_count": null,
   "metadata": {},
   "outputs": [],
   "source": [
    "# Versão da Linguagem Python\n",
    "from platform import python_version\n",
    "print('Versão de Python Neste Jupyter Notebook:', python_version())"
   ]
  },
  {
   "attachments": {},
   "cell_type": "markdown",
   "metadata": {},
   "source": [
    "#### Keywords"
   ]
  },
  {
   "attachments": {},
   "cell_type": "markdown",
   "metadata": {},
   "source": [
    "lista o conjunto de palavras reservadas usadas em Python para definir a sintaxe e a estrutura da língua. As palavras-chave diferenciam maiúsculas de minúsculas e todas as palavras-chave estão em letras minúsculas, exceto, Verdadeiro, Falso e Nenhum."
   ]
  },
  {
   "attachments": {},
   "cell_type": "markdown",
   "metadata": {},
   "source": [
    "Python keywords:\n",
    "\n",
    "False | Class | finally | is | return\n",
    "---|---|---|---|---\n",
    "None | continue | for | lambda | try\n",
    "True | def | from | nonlocal | while\n",
    "and | del | global | not | with\n",
    "as | elif | if | or | yield\n",
    "assert | else | import | pass\n",
    "break | except | in | raise"
   ]
  },
  {
   "attachments": {},
   "cell_type": "markdown",
   "metadata": {},
   "source": [
    "#### My First Python Program"
   ]
  },
  {
   "cell_type": "code",
   "execution_count": null,
   "metadata": {},
   "outputs": [],
   "source": [
    "print(\"Hello, Python World!\")"
   ]
  },
  {
   "attachments": {},
   "cell_type": "markdown",
   "metadata": {},
   "source": [
    "#### Suites"
   ]
  },
  {
   "cell_type": "code",
   "execution_count": null,
   "metadata": {},
   "outputs": [],
   "source": [
    "# Example of correct indentation\n",
    "# Correct indentation\n",
    "print (\"Programming is an important skill for Data Science\")\n",
    "print (\"Statistics is a important skill for Data Science\")\n",
    "print (\"Business domain knowledge is a important skill for Data Science\")\n",
    "\n",
    "# Correct indentation, note that if statement here is an example of suites\n",
    "x = 1\n",
    "if x == 1:\n",
    "    print ('x has a value of 1')\n",
    "else:\n",
    "    print ('x does NOT have a value of 1')"
   ]
  },
  {
   "cell_type": "code",
   "execution_count": null,
   "metadata": {},
   "outputs": [],
   "source": [
    "# Example of incorrect indentation\n",
    "# incorrect indentation, program will generate a syntax error\n",
    "# due to the space character inserted at the beginning of second line\n",
    "print (\"Programming is an important skill for Data Science\")\n",
    "print (\"Statistics is a important skill for Data Science\")\n",
    "print (\"Business domain knowledge is a important skill for Data Science\")\n",
    "\n",
    "# incorrect indentation, program will generate a syntax error\n",
    "# due to the wrong indentation in the else statement\n",
    "x = 1\n",
    "if x == 1:\n",
    "    print ('x has a value of 1')\n",
    "else:\n",
    "    print ('x does NOT have a value of 1')"
   ]
  },
  {
   "attachments": {},
   "cell_type": "markdown",
   "metadata": {},
   "source": [
    "#### Basic Object Types"
   ]
  },
  {
   "attachments": {},
   "cell_type": "markdown",
   "metadata": {},
   "source": [
    "De acordo com a referência do modelo de dados do Python, os objetos são a noção do Python para dados. Todos\n",
    "os dados em um programa Python são representados por objetos ou por relações entre objetos. Em\n",
    "certo sentido, e em conformidade com o modelo de Von Neumann de um “computador de programa armazenado”,\n",
    "o código também é representado por objetos. Todo objeto tem uma identidade, um tipo e um valor."
   ]
  },
  {
   "attachments": {},
   "cell_type": "markdown",
   "metadata": {},
   "source": [
    "Python object types \n",
    "\n",
    "| Type | Examples | Comments |\n",
    "|---|---|---|\n",
    "|None | None | # singleton null object|\n",
    "|Boolean |  True, False | \n",
    "|Integer | -1, 0, 1, sys.maxint | |\n",
    "|Long | 1L, 9787L | | \n",
    "| Float | 3.141592654 | |\n",
    "| | inf, float(‘inf’) | #infinity |\n",
    "| | -inf | # neg infinity|\n",
    "| | nan, float(‘nan’) | # not a number|\n",
    "| Complex | 2+8j | # note use of j |\n",
    "| String | ‘this is a string’, “also me” | # use single or double quote |\n",
    "| |r‘raw string’, b‘ASCII string’ u‘unicode string’| |\n",
    "|Tuple | empty = () | # empty tuple|\n",
    "| |(1, True, ‘ML’) |# immutable list or unalterable list |\n",
    "|List | empty = [ ] | empty list |\n",
    "| | [1, True, ‘ML’] | # mutable list or alterable list| \n",
    "| Set | empty = set() | # empty set|\n",
    "| | set(1, True, ‘ML’) | # mutable or alterable|\n",
    "|dictionary | empty = {} {‘1’:‘A’, ‘2’:‘AA’, True = 1, False = 0} | # mutable object or alterable object |\n",
    "|File | f = open(‘filename’, ‘rb’) | |"
   ]
  },
  {
   "cell_type": "markdown",
   "metadata": {},
   "source": []
  },
  {
   "cell_type": "markdown",
   "metadata": {},
   "source": []
  },
  {
   "cell_type": "markdown",
   "metadata": {},
   "source": []
  },
  {
   "cell_type": "markdown",
   "metadata": {},
   "source": []
  },
  {
   "cell_type": "markdown",
   "metadata": {},
   "source": []
  },
  {
   "cell_type": "markdown",
   "metadata": {},
   "source": []
  },
  {
   "cell_type": "markdown",
   "metadata": {},
   "source": []
  },
  {
   "cell_type": "markdown",
   "metadata": {},
   "source": []
  },
  {
   "cell_type": "code",
   "execution_count": null,
   "metadata": {},
   "outputs": [],
   "source": [
    "%reload_ext watermark\n",
    "%watermark -a \"Caique Miranda\" -gu \"caiquemiranda\" -iv"
   ]
  },
  {
   "attachments": {},
   "cell_type": "markdown",
   "metadata": {},
   "source": [
    "### End."
   ]
  }
 ],
 "metadata": {
  "language_info": {
   "name": "python"
  },
  "orig_nbformat": 4
 },
 "nbformat": 4,
 "nbformat_minor": 2
}
